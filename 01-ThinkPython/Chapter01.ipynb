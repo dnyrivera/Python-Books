{
 "cells": [
  {
   "cell_type": "markdown",
   "metadata": {},
   "source": [
    "# Chapter 01 - The Way of the Program\n"
   ]
  },
  {
   "cell_type": "code",
   "execution_count": 1,
   "metadata": {},
   "outputs": [
    {
     "name": "stdout",
     "output_type": "stream",
     "text": [
      "Hello World\n"
     ]
    }
   ],
   "source": [
    "print(\"Hello World\")"
   ]
  },
  {
   "cell_type": "code",
   "execution_count": null,
   "metadata": {},
   "outputs": [
    {
     "name": "stdout",
     "output_type": "stream",
     "text": [
      "42 42 42\n"
     ]
    }
   ],
   "source": [
    "print(40 + 2, 43-1, 6*7)"
   ]
  },
  {
   "cell_type": "code",
   "execution_count": 7,
   "metadata": {},
   "outputs": [
    {
     "name": "stdout",
     "output_type": "stream",
     "text": [
      "42.0 36\n"
     ]
    }
   ],
   "source": [
    "print(84/2, 6**2)"
   ]
  },
  {
   "cell_type": "code",
   "execution_count": 9,
   "metadata": {},
   "outputs": [
    {
     "name": "stdout",
     "output_type": "stream",
     "text": [
      "<class 'int'> <class 'float'> <class 'str'> <class 'bool'>\n"
     ]
    }
   ],
   "source": [
    "# to know the kind of type is your data\n",
    "print(type(2), type(42.0), type(\"Hello World\"), type(True))"
   ]
  },
  {
   "cell_type": "markdown",
   "metadata": {},
   "source": [
    "# Exercises\n"
   ]
  },
  {
   "cell_type": "markdown",
   "metadata": {},
   "source": [
    "1. How many seconds are there 42 minutes and 42 seconds?\n",
    "2. How many miles are there in 10 Kilometers? Hint there are 1.61 kilometers in a mile\n",
    "3. If you run a 10 km race in 42 minutes 42 seconds what is your average pace (time per mile in minutes and seconds)? What is your average speed in miles per hour ?\n"
   ]
  },
  {
   "cell_type": "code",
   "execution_count": 16,
   "metadata": {},
   "outputs": [
    {
     "name": "stdout",
     "output_type": "stream",
     "text": [
      "Total Seconds: 2562\n"
     ]
    }
   ],
   "source": [
    "# 1. How many seconds are there 42 minutes and 42 seconds?\n",
    "minutes = 42\n",
    "seconds = 42\n",
    "\n",
    "print(\"Total Seconds:\", (minutes * 60) + seconds)"
   ]
  },
  {
   "cell_type": "code",
   "execution_count": null,
   "metadata": {},
   "outputs": [
    {
     "name": "stdout",
     "output_type": "stream",
     "text": [
      "Miles: 6.21\n"
     ]
    }
   ],
   "source": [
    "# 2. How many miles are there in 10 Kilometers? Hint there are 1.61 kilometers in a mile\n",
    "kilometers = 10\n",
    "kilometers_per_miles = 1.61\n",
    "\n",
    "miles = kilometers / kilometers_per_miles\n",
    "\n",
    "print(\"Miles:\", round(miles, 2))"
   ]
  },
  {
   "cell_type": "code",
   "execution_count": null,
   "metadata": {},
   "outputs": [
    {
     "name": "stdout",
     "output_type": "stream",
     "text": [
      "Average pace: 6 minutes and 52 seconds per mile\n",
      "Average speed: 8.73 miles per hour\n"
     ]
    }
   ],
   "source": [
    "# 3. If you run a 10 km race in 42 minutes 42 seconds what is your average pace (time per mile in minutes and seconds)?\n",
    "# What is your average speed in miles per hour ?\n",
    "minutes = 42\n",
    "seconds = 42\n",
    "kilometers = 10\n",
    "kilometers_per_mile = 1.61\n",
    "\n",
    "# Convert minutes in seconds\n",
    "total_time_seconds = (minutes * 60) + 42\n",
    "\n",
    "# Convert kilometers to miles\n",
    "miles = kilometers / kilometers_per_mile\n",
    "\n",
    "# Calculate average pace (time per mile)\n",
    "pace_seconds = total_time_seconds / miles\n",
    "pace_minutes = int(pace_seconds // 60)\n",
    "pace_remaining_seconds = int(pace_seconds % 60)\n",
    "\n",
    "# Calculate average speed in miles per hour\n",
    "total_time_hours = total_time_seconds / 3600  # Convert total time to hours\n",
    "average_speed = miles / total_time_hours\n",
    "\n",
    "# Print the results\n",
    "print(f\"Average pace: {pace_minutes} minutes and {\n",
    "      pace_remaining_seconds} seconds per mile\")\n",
    "print(f\"Average speed: {average_speed:.2f} miles per hour\")"
   ]
  }
 ],
 "metadata": {
  "kernelspec": {
   "display_name": "venv-Books",
   "language": "python",
   "name": "python3"
  },
  "language_info": {
   "codemirror_mode": {
    "name": "ipython",
    "version": 3
   },
   "file_extension": ".py",
   "mimetype": "text/x-python",
   "name": "python",
   "nbconvert_exporter": "python",
   "pygments_lexer": "ipython3",
   "version": "3.12.2"
  }
 },
 "nbformat": 4,
 "nbformat_minor": 2
}
