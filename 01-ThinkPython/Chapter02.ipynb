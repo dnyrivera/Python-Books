{
 "cells": [
  {
   "cell_type": "markdown",
   "metadata": {},
   "source": [
    "# Chapter 02 - Variables\n"
   ]
  },
  {
   "cell_type": "code",
   "execution_count": null,
   "metadata": {},
   "outputs": [
    {
     "name": "stdout",
     "output_type": "stream",
     "text": [
      "Throatwarbler\n",
      "spamspamspam\n"
     ]
    }
   ],
   "source": [
    "# String Operations\n",
    "first = 'Throat'\n",
    "second = 'warbler'\n",
    "print(first + second)\n",
    "print('spam' * 3)"
   ]
  },
  {
   "cell_type": "code",
   "execution_count": null,
   "metadata": {},
   "outputs": [
    {
     "name": "stdout",
     "output_type": "stream",
     "text": [
      "96.67\n"
     ]
    }
   ],
   "source": [
    "# Comments\n",
    "\n",
    "# compute the percentage of the hour that has has elapsed\n",
    "minute = 58\n",
    "percentage = (minute * 100) / 60  # percentage of an hour\n",
    "print(round(percentage, 2))"
   ]
  },
  {
   "cell_type": "markdown",
   "metadata": {},
   "source": [
    "# Exercises\n"
   ]
  },
  {
   "cell_type": "code",
   "execution_count": null,
   "metadata": {},
   "outputs": [
    {
     "name": "stdout",
     "output_type": "stream",
     "text": [
      "523.599\n"
     ]
    }
   ],
   "source": [
    "# 1. The volume of a sphere with radius r is 4/3πr³. What is the volume of the sphere with radius 5?\n",
    "radius = 5\n",
    "pi = 3.141592653589793\n",
    "sphere_volume = round((4/3)*pi*(radius**3), 3)\n",
    "print(sphere_volume)"
   ]
  },
  {
   "cell_type": "code",
   "execution_count": null,
   "metadata": {},
   "outputs": [
    {
     "name": "stdout",
     "output_type": "stream",
     "text": [
      "945.45\n"
     ]
    }
   ],
   "source": [
    "# 2. Suppose the cover price of a book is $24.95, but bookstores get a 40% discount.\n",
    "# Shipping costs $3 for the first copy and 75 cents for each additional copy. What is\n",
    "# the total whole sale cost for 60 copies?\n",
    "\n",
    "copies = 60\n",
    "cover_price = 24.95\n",
    "discount = 0.40\n",
    "shipping_first = 3\n",
    "shipping_additional = 0.75\n",
    "\n",
    "# books\n",
    "discount_per_book = cover_price * (1 - discount)\n",
    "total_book_cost = discount_per_book * copies\n",
    "\n",
    "# Shipping\n",
    "total_shipping_cost = shipping_first + (shipping_additional * (copies - 1))\n",
    "total_wholesale_cost = total_book_cost + total_shipping_cost\n",
    "\n",
    "print(round(total_wholesale_cost, 2))"
   ]
  },
  {
   "cell_type": "code",
   "execution_count": null,
   "metadata": {},
   "outputs": [
    {
     "name": "stdout",
     "output_type": "stream",
     "text": [
      "16.5 21.6 30.099999999999994 7.0\n",
      "Return time: 7:30 AM\n"
     ]
    }
   ],
   "source": [
    "# 3. If I leave my house at 6:52 am and run 1 mile at an easy pace (8:15 per mile), then 3 miles\n",
    "# at tempo (7:12 per mile) and 1 mile at an easy pace again, what time do I get home for breakfast?\n",
    "\n",
    "start_hours = 6\n",
    "start_minutes = 52\n",
    "\n",
    "# Convert paces to minutes\n",
    "easy_pace = (8 + (15/60)) * 2\n",
    "tempo_pace = (7 + (12/60)) * 3\n",
    "\n",
    "final_minutes = start_minutes + easy_pace + tempo_pace\n",
    "final_hours = start_hours + (final_minutes // 60)\n",
    "final_minutes = final_minutes % 60\n",
    "print(easy_pace, tempo_pace, final_minutes, final_hours)\n",
    "print(f\"Return time: {int(final_hours)}:{int(final_minutes):02d} AM\")"
   ]
  }
 ],
 "metadata": {
  "kernelspec": {
   "display_name": "venv-Books",
   "language": "python",
   "name": "python3"
  },
  "language_info": {
   "codemirror_mode": {
    "name": "ipython",
    "version": 3
   },
   "file_extension": ".py",
   "mimetype": "text/x-python",
   "name": "python",
   "nbconvert_exporter": "python",
   "pygments_lexer": "ipython3",
   "version": "3.12.2"
  }
 },
 "nbformat": 4,
 "nbformat_minor": 2
}
