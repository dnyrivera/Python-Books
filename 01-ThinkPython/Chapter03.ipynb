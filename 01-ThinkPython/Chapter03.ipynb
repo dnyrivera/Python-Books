{
 "cells": [
  {
   "cell_type": "markdown",
   "metadata": {},
   "source": [
    "# Chapter 03 - Functions"
   ]
  },
  {
   "cell_type": "code",
   "execution_count": 6,
   "metadata": {},
   "outputs": [
    {
     "data": {
      "text/plain": [
       "3"
      ]
     },
     "execution_count": 6,
     "metadata": {},
     "output_type": "execute_result"
    }
   ],
   "source": [
    "#python functions\n",
    "type(42)\n",
    "int(3.929299)\n"
   ]
  },
  {
   "cell_type": "code",
   "execution_count": 8,
   "metadata": {},
   "outputs": [
    {
     "name": "stdout",
     "output_type": "stream",
     "text": [
      "0.5 -3.010299956639812 0.644217687237691\n"
     ]
    }
   ],
   "source": [
    "import math\n",
    "\n",
    "signal_power = 10 \n",
    "noise_power = 20\n",
    "\n",
    "ratio = signal_power / noise_power\n",
    "decibels = 10 * math.log10(ratio)\n",
    "\n",
    "radians = 0.7\n",
    "height = math.sin(radians)\n",
    "\n",
    "print(ratio, decibels, height)\n"
   ]
  },
  {
   "cell_type": "code",
   "execution_count": 14,
   "metadata": {},
   "outputs": [
    {
     "name": "stdout",
     "output_type": "stream",
     "text": [
      "0.7071067811865475----0.7071067811865476\n"
     ]
    }
   ],
   "source": [
    "degrees = 45 \n",
    "radian = degrees / 180.0 * math.pi\n",
    "print(math.sin(radian), math.sqrt(2) / 2.0, sep= \"----\")\n"
   ]
  },
  {
   "cell_type": "code",
   "execution_count": null,
   "metadata": {},
   "outputs": [
    {
     "name": "stdout",
     "output_type": "stream",
     "text": [
      "I'm a lumberjack, and I'm okay.\n",
      "I sleep all night and I work all day.\n",
      "I'm a lumberjack, and I'm okay.\n",
      "I sleep all night and I work all day.\n"
     ]
    }
   ],
   "source": [
    "# adding your own Function\n",
    "\n",
    "def print_lyrics():\n",
    "    print(\"I'm a lumberjack, and I'm okay.\")\n",
    "    print(\"I sleep all night and I work all day.\")\n",
    "    \n",
    "def repeat_lyrics():\n",
    "    print_lyrics()\n",
    "    print_lyrics()\n",
    "    \n",
    "# print_lyrics()\n",
    "repeat_lyrics()"
   ]
  },
  {
   "cell_type": "code",
   "execution_count": 17,
   "metadata": {},
   "outputs": [
    {
     "name": "stdout",
     "output_type": "stream",
     "text": [
      "<function print_lyrics at 0x104e47880> <class 'function'>\n"
     ]
    }
   ],
   "source": [
    "print(print_lyrics, type(print_lyrics))"
   ]
  },
  {
   "cell_type": "code",
   "execution_count": 30,
   "metadata": {},
   "outputs": [
    {
     "name": "stdout",
     "output_type": "stream",
     "text": [
      "Spam Spam Spam Spam \n",
      "Spam Spam Spam Spam \n",
      "-1.0\n",
      "-1.0\n"
     ]
    }
   ],
   "source": [
    " # Functions with Parameters and Arguments\n",
    "def print_twice(bruce) -> None:\n",
    "    print(bruce)\n",
    "    print(bruce)\n",
    "    \n",
    "print_twice(\"Spam \"*4)\n",
    "print_twice(math.cos(math.pi))"
   ]
  },
  {
   "cell_type": "code",
   "execution_count": null,
   "metadata": {},
   "outputs": [
    {
     "name": "stdout",
     "output_type": "stream",
     "text": [
      "Bing tiddle tiddle Bing \n",
      "tiddle Bing Bing tiddle \n"
     ]
    }
   ],
   "source": [
    "def cat_twice (part1, part2) -> None:\n",
    "    cat = part1 + part2\n",
    "    print(cat)\n",
    "\n",
    "line1 = 'Bing tiddle '\n",
    "line2 = 'tiddle Bing '\n",
    "\n",
    "cat_twice(line1,line2)\n",
    "cat_twice(line2, line1) \n"
   ]
  },
  {
   "cell_type": "markdown",
   "metadata": {},
   "source": [
    "## Exercises"
   ]
  },
  {
   "cell_type": "code",
   "execution_count": 9,
   "metadata": {},
   "outputs": [
    {
     "name": "stdout",
     "output_type": "stream",
     "text": [
      "70\n",
      "                                                                 monty\n"
     ]
    }
   ],
   "source": [
    "# Exercise 3-1.\n",
    "# Write a function named right_justify that takes a string named s as a parameter and prints the string with enough leading spaces so that the last letter of the string is in column 70 of the display:\n",
    "# >>> right_justify('monty')\n",
    "#                                               monty\n",
    "#Hint: Use string concatenation and repetition. Also, Python provides a built-in function called len that returns the length of a string, so the value of len('monty') is 5.\n",
    "\n",
    "def right_justify(s):\n",
    "    return(\" \" * (70 - len(s)) + s)\n",
    "    \n",
    "print(len(right_justify('monty')), right_justify('monty'), sep=\"\\n\")  \n",
    "    "
   ]
  },
  {
   "cell_type": "code",
   "execution_count": null,
   "metadata": {},
   "outputs": [
    {
     "name": "stdout",
     "output_type": "stream",
     "text": [
      "spamms\n",
      "spamms\n",
      "donny\n",
      "donny\n",
      "donny\n",
      "donny\n"
     ]
    }
   ],
   "source": [
    "# Exercise 3-2.\n",
    "# A function object is a value you can assign to a variable or pass as an argument. For example, do_twice is a function that takes a function object as an argument and calls it twice:\n",
    "# def do_twice(f):\n",
    "#  f()\n",
    "#  f()\n",
    "# Here’s an example that uses do_twice to call a function named print_spam twice:\n",
    "# def print_spam():\n",
    "#  print('spam')\n",
    "# do_twice(print_spam)\n",
    "# 1. Type this example into a script and test it.\n",
    "# 2. Modify do_twice so that it takes two arguments, a function object and a value, and calls the function twice, passing the value as an argument.\n",
    "# 3. Copy the definition of print_twice from earlier in this chapter to your script.\n",
    "# 4. Use the modified version of do_twice to call print_twice twice, passing 'spam' as an argument.\n",
    "# 5. Define a new function called do_four that takes a function object and a value and calls the function four times, passing the value as a parameter. There should be only two statements in the body of this function, not four.\n",
    "\n",
    "def do_twice(f, value):\n",
    "    f(value)\n",
    "    f(value)\n",
    "\n",
    "def do_four(f, value):\n",
    "    do_twice(f,value)   \n",
    "    do_twice(f, value)\n",
    "\n",
    "\n",
    "def print_spam(value):\n",
    "    print(value)\n",
    "    \n",
    "do_twice(print_spam, 'spamms') # print a name twice\n",
    "do_four(print_spam, 'donny') # print a name 4 times"
   ]
  },
  {
   "cell_type": "code",
   "execution_count": 33,
   "metadata": {},
   "outputs": [
    {
     "name": "stdout",
     "output_type": "stream",
     "text": [
      "+ -  -  -  - + -  -  -  - +\n",
      "|            |            |\n",
      "|            |            |\n",
      "|            |            |\n",
      "|            |            |\n",
      "+ -  -  -  - + -  -  -  - +\n",
      "|            |            |\n",
      "|            |            |\n",
      "|            |            |\n",
      "|            |            |\n",
      "+ -  -  -  - + -  -  -  - +\n",
      "+ -  -  -  - + -  -  -  - +\n",
      "|            |            |\n",
      "|            |            |\n",
      "|            |            |\n",
      "|            |            |\n",
      "+ -  -  -  - + -  -  -  - +\n",
      "|            |            |\n",
      "|            |            |\n",
      "|            |            |\n",
      "|            |            |\n",
      "+ -  -  -  - + -  -  -  - +\n"
     ]
    }
   ],
   "source": [
    "# Exercise 3-3.\n",
    "# Note: This exercise should be done using only the statements and other features we have learned so far.\n",
    "# 1. Write a function that draws a grid like the following:\n",
    "# + - - - - + - - - - +\n",
    "# |         |         |\n",
    "# |         |         |\n",
    "# |         |         |\n",
    "# |         |         | \n",
    "# + - - - - + - - - - +\n",
    "# + - - - - + - - - - +\n",
    "# |         |         |\n",
    "# |         |         |\n",
    "# |         |         |\n",
    "# |         |         | \n",
    "# + - - - - + - - - - +\n",
    "# Hint: to print more than one value on a line, you can print a comma-separated sequence of values:\n",
    "# print('+', '-')\n",
    "# By default, print advances to the next line, but you can override that behavior and put a space at the end, like this:\n",
    "# print('+', end=' ')\n",
    "# print('-')\n",
    "# The output of these statements is '+ -'. A print statement with no argument ends the current line and goes to the nextline.\n",
    "# 2. Write a function that draws a similar grid with four rows and four columns.\n",
    "\n",
    "def draw_2x2_grid():\n",
    "   \n",
    "    def print_horizontal():\n",
    "        print(\"+\", ' - ' * 4, '+', ' - ' * 4, '+', sep='')\n",
    "\n",
    "    def print_vertical():\n",
    "        for i in range(4):\n",
    "            print( \"|\", ' ' * 12,\"|\", ' ' * 12, \"|\",sep='')\n",
    "    \n",
    "    print_horizontal()\n",
    "    print_vertical()\n",
    "    print_horizontal()\n",
    "    print_vertical()\n",
    "    print_horizontal()\n",
    "    \n",
    "def repeat_function(function, quantity):\n",
    "    if quantity <= 0:\n",
    "        return\n",
    "    function()\n",
    "    repeat_function(function, quantity - 1)\n",
    "    \n",
    "\n",
    "repeat_function(draw_2x2_grid, 2)\n",
    "# repeat_function(draw_2x2_grid, 4)"
   ]
  },
  {
   "cell_type": "code",
   "execution_count": null,
   "metadata": {},
   "outputs": [],
   "source": []
  }
 ],
 "metadata": {
  "kernelspec": {
   "display_name": "venv",
   "language": "python",
   "name": "python3"
  },
  "language_info": {
   "codemirror_mode": {
    "name": "ipython",
    "version": 3
   },
   "file_extension": ".py",
   "mimetype": "text/x-python",
   "name": "python",
   "nbconvert_exporter": "python",
   "pygments_lexer": "ipython3",
   "version": "3.13.0"
  }
 },
 "nbformat": 4,
 "nbformat_minor": 2
}
