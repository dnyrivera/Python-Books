{
 "cells": [
  {
   "cell_type": "markdown",
   "metadata": {},
   "source": [
    "# Chapter 03 - Functions"
   ]
  },
  {
   "cell_type": "code",
   "execution_count": 6,
   "metadata": {},
   "outputs": [
    {
     "data": {
      "text/plain": [
       "3"
      ]
     },
     "execution_count": 6,
     "metadata": {},
     "output_type": "execute_result"
    }
   ],
   "source": [
    "#python functions\n",
    "type(42)\n",
    "int(3.929299)\n"
   ]
  },
  {
   "cell_type": "code",
   "execution_count": 8,
   "metadata": {},
   "outputs": [
    {
     "name": "stdout",
     "output_type": "stream",
     "text": [
      "0.5 -3.010299956639812 0.644217687237691\n"
     ]
    }
   ],
   "source": [
    "import math\n",
    "\n",
    "signal_power = 10 \n",
    "noise_power = 20\n",
    "\n",
    "ratio = signal_power / noise_power\n",
    "decibels = 10 * math.log10(ratio)\n",
    "\n",
    "radians = 0.7\n",
    "height = math.sin(radians)\n",
    "\n",
    "print(ratio, decibels, height)\n"
   ]
  },
  {
   "cell_type": "code",
   "execution_count": 14,
   "metadata": {},
   "outputs": [
    {
     "name": "stdout",
     "output_type": "stream",
     "text": [
      "0.7071067811865475----0.7071067811865476\n"
     ]
    }
   ],
   "source": [
    "degrees = 45 \n",
    "radian = degrees / 180.0 * math.pi\n",
    "print(math.sin(radian), math.sqrt(2) / 2.0, sep= \"----\")\n"
   ]
  },
  {
   "cell_type": "code",
   "execution_count": null,
   "metadata": {},
   "outputs": [
    {
     "name": "stdout",
     "output_type": "stream",
     "text": [
      "I'm a lumberjack, and I'm okay.\n",
      "I sleep all night and I work all day.\n",
      "I'm a lumberjack, and I'm okay.\n",
      "I sleep all night and I work all day.\n"
     ]
    }
   ],
   "source": [
    "# adding your own Function\n",
    "\n",
    "def print_lyrics():\n",
    "    print(\"I'm a lumberjack, and I'm okay.\")\n",
    "    print(\"I sleep all night and I work all day.\")\n",
    "    \n",
    "def repeat_lyrics():\n",
    "    print_lyrics()\n",
    "    print_lyrics()\n",
    "    \n",
    "# print_lyrics()\n",
    "repeat_lyrics()"
   ]
  },
  {
   "cell_type": "code",
   "execution_count": 17,
   "metadata": {},
   "outputs": [
    {
     "name": "stdout",
     "output_type": "stream",
     "text": [
      "<function print_lyrics at 0x104e47880> <class 'function'>\n"
     ]
    }
   ],
   "source": [
    "print(print_lyrics, type(print_lyrics))"
   ]
  },
  {
   "cell_type": "code",
   "execution_count": 30,
   "metadata": {},
   "outputs": [
    {
     "name": "stdout",
     "output_type": "stream",
     "text": [
      "Spam Spam Spam Spam \n",
      "Spam Spam Spam Spam \n",
      "-1.0\n",
      "-1.0\n"
     ]
    }
   ],
   "source": [
    " # Functions with Parameters and Arguments\n",
    "def print_twice(bruce) -> None:\n",
    "    print(bruce)\n",
    "    print(bruce)\n",
    "    \n",
    "print_twice(\"Spam \"*4)\n",
    "print_twice(math.cos(math.pi))"
   ]
  },
  {
   "cell_type": "code",
   "execution_count": null,
   "metadata": {},
   "outputs": [
    {
     "name": "stdout",
     "output_type": "stream",
     "text": [
      "Bing tiddle tiddle Bing \n",
      "tiddle Bing Bing tiddle \n"
     ]
    }
   ],
   "source": [
    "def cat_twice (part1, part2) -> None:\n",
    "    cat = part1 + part2\n",
    "    print(cat)\n",
    "\n",
    "line1 = 'Bing tiddle '\n",
    "line2 = 'tiddle Bing '\n",
    "\n",
    "cat_twice(line1,line2)\n",
    "cat_twice(line2, line1) \n"
   ]
  }
 ],
 "metadata": {
  "kernelspec": {
   "display_name": "venv",
   "language": "python",
   "name": "python3"
  },
  "language_info": {
   "codemirror_mode": {
    "name": "ipython",
    "version": 3
   },
   "file_extension": ".py",
   "mimetype": "text/x-python",
   "name": "python",
   "nbconvert_exporter": "python",
   "pygments_lexer": "ipython3",
   "version": "3.13.0"
  }
 },
 "nbformat": 4,
 "nbformat_minor": 2
}
